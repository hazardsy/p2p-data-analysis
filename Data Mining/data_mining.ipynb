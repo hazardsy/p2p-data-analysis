{
 "cells": [
  {
   "cell_type": "code",
   "execution_count": 2,
   "metadata": {},
   "outputs": [],
   "source": [
    "import pandas as pd\n",
    "from datetime import datetime, timedelta"
   ]
  },
  {
   "cell_type": "markdown",
   "metadata": {},
   "source": [
    "# Reading Data"
   ]
  },
  {
   "cell_type": "code",
   "execution_count": 3,
   "metadata": {},
   "outputs": [],
   "source": [
    "DATA_PATH = \"dstest.csv\""
   ]
  },
  {
   "cell_type": "code",
   "execution_count": 4,
   "metadata": {},
   "outputs": [
    {
     "data": {
      "text/html": [
       "<div>\n",
       "<style scoped>\n",
       "    .dataframe tbody tr th:only-of-type {\n",
       "        vertical-align: middle;\n",
       "    }\n",
       "\n",
       "    .dataframe tbody tr th {\n",
       "        vertical-align: top;\n",
       "    }\n",
       "\n",
       "    .dataframe thead th {\n",
       "        text-align: right;\n",
       "    }\n",
       "</style>\n",
       "<table border=\"1\" class=\"dataframe\">\n",
       "  <thead>\n",
       "    <tr style=\"text-align: right;\">\n",
       "      <th></th>\n",
       "      <th>p2p</th>\n",
       "      <th>cdn</th>\n",
       "      <th>upload</th>\n",
       "      <th>peers_count</th>\n",
       "      <th>peers_match</th>\n",
       "      <th>timestamp</th>\n",
       "      <th>sessionDuration</th>\n",
       "      <th>playbackErrorCount</th>\n",
       "      <th>totalPlaybackErrorCount</th>\n",
       "    </tr>\n",
       "  </thead>\n",
       "  <tbody>\n",
       "    <tr>\n",
       "      <th>count</th>\n",
       "      <td>3.851650e+05</td>\n",
       "      <td>3.851650e+05</td>\n",
       "      <td>3.851650e+05</td>\n",
       "      <td>385165.000000</td>\n",
       "      <td>385165.000000</td>\n",
       "      <td>3.851650e+05</td>\n",
       "      <td>3.851650e+05</td>\n",
       "      <td>385165.000000</td>\n",
       "      <td>385165.000000</td>\n",
       "    </tr>\n",
       "    <tr>\n",
       "      <th>mean</th>\n",
       "      <td>8.599490e+06</td>\n",
       "      <td>7.459601e+06</td>\n",
       "      <td>4.303269e+06</td>\n",
       "      <td>5.331324</td>\n",
       "      <td>5.694297</td>\n",
       "      <td>1.562470e+12</td>\n",
       "      <td>2.356197e+06</td>\n",
       "      <td>0.000039</td>\n",
       "      <td>0.000696</td>\n",
       "    </tr>\n",
       "    <tr>\n",
       "      <th>std</th>\n",
       "      <td>2.263496e+07</td>\n",
       "      <td>1.155237e+07</td>\n",
       "      <td>1.174622e+07</td>\n",
       "      <td>6.807043</td>\n",
       "      <td>12.818525</td>\n",
       "      <td>6.102775e+06</td>\n",
       "      <td>2.547924e+06</td>\n",
       "      <td>0.008056</td>\n",
       "      <td>0.028361</td>\n",
       "    </tr>\n",
       "    <tr>\n",
       "      <th>min</th>\n",
       "      <td>0.000000e+00</td>\n",
       "      <td>0.000000e+00</td>\n",
       "      <td>0.000000e+00</td>\n",
       "      <td>0.000000</td>\n",
       "      <td>0.000000</td>\n",
       "      <td>1.562458e+12</td>\n",
       "      <td>1.200000e+05</td>\n",
       "      <td>0.000000</td>\n",
       "      <td>0.000000</td>\n",
       "    </tr>\n",
       "    <tr>\n",
       "      <th>25%</th>\n",
       "      <td>0.000000e+00</td>\n",
       "      <td>0.000000e+00</td>\n",
       "      <td>0.000000e+00</td>\n",
       "      <td>0.000000</td>\n",
       "      <td>0.000000</td>\n",
       "      <td>1.562465e+12</td>\n",
       "      <td>7.200000e+05</td>\n",
       "      <td>0.000000</td>\n",
       "      <td>0.000000</td>\n",
       "    </tr>\n",
       "    <tr>\n",
       "      <th>50%</th>\n",
       "      <td>0.000000e+00</td>\n",
       "      <td>8.196800e+05</td>\n",
       "      <td>0.000000e+00</td>\n",
       "      <td>2.000000</td>\n",
       "      <td>0.000000</td>\n",
       "      <td>1.562471e+12</td>\n",
       "      <td>1.560000e+06</td>\n",
       "      <td>0.000000</td>\n",
       "      <td>0.000000</td>\n",
       "    </tr>\n",
       "    <tr>\n",
       "      <th>75%</th>\n",
       "      <td>8.869840e+06</td>\n",
       "      <td>1.110065e+07</td>\n",
       "      <td>3.700024e+06</td>\n",
       "      <td>9.000000</td>\n",
       "      <td>2.000000</td>\n",
       "      <td>1.562476e+12</td>\n",
       "      <td>3.000000e+06</td>\n",
       "      <td>0.000000</td>\n",
       "      <td>0.000000</td>\n",
       "    </tr>\n",
       "    <tr>\n",
       "      <th>max</th>\n",
       "      <td>6.065534e+08</td>\n",
       "      <td>3.481350e+08</td>\n",
       "      <td>3.437871e+08</td>\n",
       "      <td>22.000000</td>\n",
       "      <td>240.000000</td>\n",
       "      <td>1.562479e+12</td>\n",
       "      <td>2.148000e+07</td>\n",
       "      <td>3.000000</td>\n",
       "      <td>3.000000</td>\n",
       "    </tr>\n",
       "  </tbody>\n",
       "</table>\n",
       "</div>"
      ],
      "text/plain": [
       "                p2p           cdn        upload    peers_count    peers_match  \\\n",
       "count  3.851650e+05  3.851650e+05  3.851650e+05  385165.000000  385165.000000   \n",
       "mean   8.599490e+06  7.459601e+06  4.303269e+06       5.331324       5.694297   \n",
       "std    2.263496e+07  1.155237e+07  1.174622e+07       6.807043      12.818525   \n",
       "min    0.000000e+00  0.000000e+00  0.000000e+00       0.000000       0.000000   \n",
       "25%    0.000000e+00  0.000000e+00  0.000000e+00       0.000000       0.000000   \n",
       "50%    0.000000e+00  8.196800e+05  0.000000e+00       2.000000       0.000000   \n",
       "75%    8.869840e+06  1.110065e+07  3.700024e+06       9.000000       2.000000   \n",
       "max    6.065534e+08  3.481350e+08  3.437871e+08      22.000000     240.000000   \n",
       "\n",
       "          timestamp  sessionDuration  playbackErrorCount  \\\n",
       "count  3.851650e+05     3.851650e+05       385165.000000   \n",
       "mean   1.562470e+12     2.356197e+06            0.000039   \n",
       "std    6.102775e+06     2.547924e+06            0.008056   \n",
       "min    1.562458e+12     1.200000e+05            0.000000   \n",
       "25%    1.562465e+12     7.200000e+05            0.000000   \n",
       "50%    1.562471e+12     1.560000e+06            0.000000   \n",
       "75%    1.562476e+12     3.000000e+06            0.000000   \n",
       "max    1.562479e+12     2.148000e+07            3.000000   \n",
       "\n",
       "       totalPlaybackErrorCount  \n",
       "count            385165.000000  \n",
       "mean                  0.000696  \n",
       "std                   0.028361  \n",
       "min                   0.000000  \n",
       "25%                   0.000000  \n",
       "50%                   0.000000  \n",
       "75%                   0.000000  \n",
       "max                   3.000000  "
      ]
     },
     "execution_count": 4,
     "metadata": {},
     "output_type": "execute_result"
    }
   ],
   "source": [
    "df = pd.read_csv(DATA_PATH)\n",
    "df.describe()"
   ]
  },
  {
   "cell_type": "code",
   "execution_count": 5,
   "metadata": {},
   "outputs": [
    {
     "data": {
      "text/html": [
       "<div>\n",
       "<style scoped>\n",
       "    .dataframe tbody tr th:only-of-type {\n",
       "        vertical-align: middle;\n",
       "    }\n",
       "\n",
       "    .dataframe tbody tr th {\n",
       "        vertical-align: top;\n",
       "    }\n",
       "\n",
       "    .dataframe thead th {\n",
       "        text-align: right;\n",
       "    }\n",
       "</style>\n",
       "<table border=\"1\" class=\"dataframe\">\n",
       "  <thead>\n",
       "    <tr style=\"text-align: right;\">\n",
       "      <th></th>\n",
       "      <th>company</th>\n",
       "      <th>live</th>\n",
       "      <th>mediaEngine</th>\n",
       "      <th>p2p</th>\n",
       "      <th>cdn</th>\n",
       "      <th>upload</th>\n",
       "      <th>peers_count</th>\n",
       "      <th>peers_match</th>\n",
       "      <th>timestamp</th>\n",
       "      <th>sessionDuration</th>\n",
       "      <th>playbackErrorCount</th>\n",
       "      <th>totalPlaybackErrorCount</th>\n",
       "      <th>content</th>\n",
       "    </tr>\n",
       "  </thead>\n",
       "  <tbody>\n",
       "    <tr>\n",
       "      <th>376757</th>\n",
       "      <td>Streamroot TV</td>\n",
       "      <td>VOD</td>\n",
       "      <td>ME1</td>\n",
       "      <td>11997032.0</td>\n",
       "      <td>0.0</td>\n",
       "      <td>3293880.0</td>\n",
       "      <td>10.0</td>\n",
       "      <td>0</td>\n",
       "      <td>1562460961399</td>\n",
       "      <td>1320000.0</td>\n",
       "      <td>0</td>\n",
       "      <td>0</td>\n",
       "      <td>content-13423</td>\n",
       "    </tr>\n",
       "  </tbody>\n",
       "</table>\n",
       "</div>"
      ],
      "text/plain": [
       "              company live mediaEngine         p2p  cdn     upload  \\\n",
       "376757  Streamroot TV  VOD         ME1  11997032.0  0.0  3293880.0   \n",
       "\n",
       "        peers_count  peers_match      timestamp  sessionDuration  \\\n",
       "376757         10.0            0  1562460961399        1320000.0   \n",
       "\n",
       "        playbackErrorCount  totalPlaybackErrorCount        content  \n",
       "376757                   0                        0  content-13423  "
      ]
     },
     "execution_count": 5,
     "metadata": {},
     "output_type": "execute_result"
    }
   ],
   "source": [
    "df.sample()"
   ]
  },
  {
   "cell_type": "markdown",
   "metadata": {},
   "source": [
    "# Questions\n",
    "## Question 1\n",
    "\n",
    "**Q** : Knowing the goal of the our technology, define a metric to measure our performance. Calculate that performance score for each of the companies in the dataset.\n",
    "\n",
    "**A** : We want to increase the ratio of data that is downloaded through P2P rather than CDN. Some payloads report no uploaded data, which means we won't be able to compute a performance score for them. From my knowledge, I can only imagine that those correspond to paused livestreams or fully downloaded VODs.\n",
    "\n"
   ]
  },
  {
   "cell_type": "code",
   "execution_count": 6,
   "metadata": {},
   "outputs": [
    {
     "data": {
      "text/plain": [
       "company\n",
       "Flash Infos      0.394056\n",
       "Sports News      0.219914\n",
       "Streamroot TV    0.547288\n",
       "dtype: float64"
      ]
     },
     "execution_count": 6,
     "metadata": {},
     "output_type": "execute_result"
    }
   ],
   "source": [
    "p2p_data_by_company = df.groupby(\"company\")[\"p2p\"].sum() \n",
    "cdn_data_by_company = df.groupby(\"company\")[\"cdn\"].sum()\n",
    "\n",
    "p2p_data_by_company / (p2p_data_by_company + cdn_data_by_company)"
   ]
  },
  {
   "cell_type": "markdown",
   "metadata": {},
   "source": [
    "## Question 2\n",
    "### 2.1\n",
    "**Q** : How can we know whether a payload is the first payload of a viewer's session?  \n",
    "**A** : A payload is the first payload of a session if the sessionDuration is equal to the interval between payloads. Here, it must be equal to 2 minutes (120 000 ms).\n",
    "\n",
    "### 2.2\n",
    "**Q** : Add a column `isFirstPayload` to the dataset, that must be `True` if the row represents a payload that was **the first payload** sent by a viewer, and `False` otherwise."
   ]
  },
  {
   "cell_type": "code",
   "execution_count": 7,
   "metadata": {},
   "outputs": [],
   "source": [
    "PAYLOAD_INTERVAL_IN_MS = 120000"
   ]
  },
  {
   "cell_type": "code",
   "execution_count": 8,
   "metadata": {},
   "outputs": [
    {
     "data": {
      "text/html": [
       "<div>\n",
       "<style scoped>\n",
       "    .dataframe tbody tr th:only-of-type {\n",
       "        vertical-align: middle;\n",
       "    }\n",
       "\n",
       "    .dataframe tbody tr th {\n",
       "        vertical-align: top;\n",
       "    }\n",
       "\n",
       "    .dataframe thead th {\n",
       "        text-align: right;\n",
       "    }\n",
       "</style>\n",
       "<table border=\"1\" class=\"dataframe\">\n",
       "  <thead>\n",
       "    <tr style=\"text-align: right;\">\n",
       "      <th></th>\n",
       "      <th>company</th>\n",
       "      <th>live</th>\n",
       "      <th>mediaEngine</th>\n",
       "      <th>p2p</th>\n",
       "      <th>cdn</th>\n",
       "      <th>upload</th>\n",
       "      <th>peers_count</th>\n",
       "      <th>peers_match</th>\n",
       "      <th>timestamp</th>\n",
       "      <th>sessionDuration</th>\n",
       "      <th>playbackErrorCount</th>\n",
       "      <th>totalPlaybackErrorCount</th>\n",
       "      <th>content</th>\n",
       "      <th>isFirstPayload</th>\n",
       "    </tr>\n",
       "  </thead>\n",
       "  <tbody>\n",
       "    <tr>\n",
       "      <th>0</th>\n",
       "      <td>Streamroot TV</td>\n",
       "      <td>VOD</td>\n",
       "      <td>ME1</td>\n",
       "      <td>0.0</td>\n",
       "      <td>8507376.0</td>\n",
       "      <td>0.0</td>\n",
       "      <td>0.0</td>\n",
       "      <td>1</td>\n",
       "      <td>1562469807407</td>\n",
       "      <td>120000.0</td>\n",
       "      <td>0</td>\n",
       "      <td>0</td>\n",
       "      <td>content-09235</td>\n",
       "      <td>True</td>\n",
       "    </tr>\n",
       "    <tr>\n",
       "      <th>1</th>\n",
       "      <td>Streamroot TV</td>\n",
       "      <td>VOD</td>\n",
       "      <td>ME1</td>\n",
       "      <td>0.0</td>\n",
       "      <td>5778744.0</td>\n",
       "      <td>0.0</td>\n",
       "      <td>0.0</td>\n",
       "      <td>0</td>\n",
       "      <td>1562469927310</td>\n",
       "      <td>240000.0</td>\n",
       "      <td>0</td>\n",
       "      <td>0</td>\n",
       "      <td>content-09235</td>\n",
       "      <td>False</td>\n",
       "    </tr>\n",
       "    <tr>\n",
       "      <th>2</th>\n",
       "      <td>Streamroot TV</td>\n",
       "      <td>VOD</td>\n",
       "      <td>ME1</td>\n",
       "      <td>0.0</td>\n",
       "      <td>7692960.0</td>\n",
       "      <td>0.0</td>\n",
       "      <td>0.0</td>\n",
       "      <td>0</td>\n",
       "      <td>1562470047330</td>\n",
       "      <td>360000.0</td>\n",
       "      <td>0</td>\n",
       "      <td>0</td>\n",
       "      <td>content-09235</td>\n",
       "      <td>False</td>\n",
       "    </tr>\n",
       "    <tr>\n",
       "      <th>3</th>\n",
       "      <td>Streamroot TV</td>\n",
       "      <td>VOD</td>\n",
       "      <td>ME1</td>\n",
       "      <td>0.0</td>\n",
       "      <td>8229888.0</td>\n",
       "      <td>0.0</td>\n",
       "      <td>0.0</td>\n",
       "      <td>0</td>\n",
       "      <td>1562470167720</td>\n",
       "      <td>480000.0</td>\n",
       "      <td>0</td>\n",
       "      <td>0</td>\n",
       "      <td>content-09235</td>\n",
       "      <td>False</td>\n",
       "    </tr>\n",
       "    <tr>\n",
       "      <th>4</th>\n",
       "      <td>Streamroot TV</td>\n",
       "      <td>VOD</td>\n",
       "      <td>ME1</td>\n",
       "      <td>0.0</td>\n",
       "      <td>10387000.0</td>\n",
       "      <td>0.0</td>\n",
       "      <td>0.0</td>\n",
       "      <td>0</td>\n",
       "      <td>1562470287353</td>\n",
       "      <td>600000.0</td>\n",
       "      <td>0</td>\n",
       "      <td>0</td>\n",
       "      <td>content-09235</td>\n",
       "      <td>False</td>\n",
       "    </tr>\n",
       "  </tbody>\n",
       "</table>\n",
       "</div>"
      ],
      "text/plain": [
       "         company live mediaEngine  p2p         cdn  upload  peers_count  \\\n",
       "0  Streamroot TV  VOD         ME1  0.0   8507376.0     0.0          0.0   \n",
       "1  Streamroot TV  VOD         ME1  0.0   5778744.0     0.0          0.0   \n",
       "2  Streamroot TV  VOD         ME1  0.0   7692960.0     0.0          0.0   \n",
       "3  Streamroot TV  VOD         ME1  0.0   8229888.0     0.0          0.0   \n",
       "4  Streamroot TV  VOD         ME1  0.0  10387000.0     0.0          0.0   \n",
       "\n",
       "   peers_match      timestamp  sessionDuration  playbackErrorCount  \\\n",
       "0            1  1562469807407         120000.0                   0   \n",
       "1            0  1562469927310         240000.0                   0   \n",
       "2            0  1562470047330         360000.0                   0   \n",
       "3            0  1562470167720         480000.0                   0   \n",
       "4            0  1562470287353         600000.0                   0   \n",
       "\n",
       "   totalPlaybackErrorCount        content  isFirstPayload  \n",
       "0                        0  content-09235            True  \n",
       "1                        0  content-09235           False  \n",
       "2                        0  content-09235           False  \n",
       "3                        0  content-09235           False  \n",
       "4                        0  content-09235           False  "
      ]
     },
     "execution_count": 8,
     "metadata": {},
     "output_type": "execute_result"
    }
   ],
   "source": [
    "\n",
    "df[\"isFirstPayload\"] = df[\"sessionDuration\"].apply(lambda x: x <= PAYLOAD_INTERVAL_IN_MS)\n",
    "df.head()"
   ]
  },
  {
   "cell_type": "markdown",
   "metadata": {},
   "source": [
    "### 2.3\n",
    "**Q** : Use that column to calculate the **number of distinct viewers** that sent payloads for each company."
   ]
  },
  {
   "cell_type": "code",
   "execution_count": 9,
   "metadata": {},
   "outputs": [
    {
     "data": {
      "text/html": [
       "<div>\n",
       "<style scoped>\n",
       "    .dataframe tbody tr th:only-of-type {\n",
       "        vertical-align: middle;\n",
       "    }\n",
       "\n",
       "    .dataframe tbody tr th {\n",
       "        vertical-align: top;\n",
       "    }\n",
       "\n",
       "    .dataframe thead th {\n",
       "        text-align: right;\n",
       "    }\n",
       "</style>\n",
       "<table border=\"1\" class=\"dataframe\">\n",
       "  <thead>\n",
       "    <tr style=\"text-align: right;\">\n",
       "      <th></th>\n",
       "      <th>company</th>\n",
       "      <th>Viewers</th>\n",
       "    </tr>\n",
       "  </thead>\n",
       "  <tbody>\n",
       "    <tr>\n",
       "      <th>0</th>\n",
       "      <td>Flash Infos</td>\n",
       "      <td>805</td>\n",
       "    </tr>\n",
       "    <tr>\n",
       "      <th>1</th>\n",
       "      <td>Sports News</td>\n",
       "      <td>115</td>\n",
       "    </tr>\n",
       "    <tr>\n",
       "      <th>2</th>\n",
       "      <td>Streamroot TV</td>\n",
       "      <td>19914</td>\n",
       "    </tr>\n",
       "  </tbody>\n",
       "</table>\n",
       "</div>"
      ],
      "text/plain": [
       "         company  Viewers\n",
       "0    Flash Infos      805\n",
       "1    Sports News      115\n",
       "2  Streamroot TV    19914"
      ]
     },
     "execution_count": 9,
     "metadata": {},
     "output_type": "execute_result"
    }
   ],
   "source": [
    "df[df.isFirstPayload].groupby(\"company\")[\"isFirstPayload\"].count().reset_index(name=\"Viewers\")"
   ]
  },
  {
   "cell_type": "markdown",
   "metadata": {},
   "source": [
    "## Question 3\n",
    "### 3.1\n",
    "**Q** : Let's consider a viewer A who starts a video at T=0, then has a playback error at **T = 2 minutes 30 seconds**, and then another one at **T=6 minutes 20 seconds**. What will be the values of the fields `playbackErrorCount` and `totalPlaybackErrorCount` in the first 5 payloads sent by viewer A?  \n",
    "**A** :   \n",
    "\n"
   ]
  },
  {
   "cell_type": "markdown",
   "metadata": {},
   "source": [
    "| Payload number | SessionDuration | playbackErrorCount | totalPlaybackErrorCount |\n",
    "|----------------|-----------------|--------------------|-------------------------|\n",
    "| 1              | 120 000         | 0                  | 0                       |\n",
    "| 2              | 240 000         | 1                  | 1                       |\n",
    "| 3              | 360 000         | 0                  | 1                       |\n",
    "| 4              | 480 000         | 1                  | 2                       |\n",
    "| 5              | 600 000         | 0                  | 2                       |"
   ]
  },
  {
   "cell_type": "markdown",
   "metadata": {},
   "source": [
    "##### 3.3\n",
    "**Q** : Calculate the **number of distinct viewers** that had **at least 1** playback error during their session.  \n",
    "**A** : To get this number, we must count the number of rows that correspond to the first error of a session e.g. `playbackErrorCount` and `totalPlaybackErrorCount` both equal 1."
   ]
  },
  {
   "cell_type": "code",
   "execution_count": 10,
   "metadata": {},
   "outputs": [
    {
     "data": {
      "text/plain": [
       "'Number of distinct viewers with at least one playback error : 8'"
      ]
     },
     "execution_count": 10,
     "metadata": {},
     "output_type": "execute_result"
    }
   ],
   "source": [
    "f\"Number of distinct viewers with at least one playback error : {len(df.query('playbackErrorCount == 1 & totalPlaybackErrorCount == 1').index)}\""
   ]
  },
  {
   "cell_type": "markdown",
   "metadata": {},
   "source": [
    "## Question 4"
   ]
  },
  {
   "cell_type": "code",
   "execution_count": 11,
   "metadata": {},
   "outputs": [],
   "source": [
    "df_tv = df[df.company == \"Streamroot TV\"]"
   ]
  },
  {
   "cell_type": "markdown",
   "metadata": {},
   "source": [
    "### 4.1\n",
    "**Q** : Add a column \"readableDate\" to the dataset that will be the beginning of the 2 minutes window during which the payload was sent. For example, if a payload was sent at 11:35, the column \"readableDate\" should be 11:34, if a payload was sent at 10:03, the \"readableDate\" should be 10:02.\n"
   ]
  },
  {
   "cell_type": "code",
   "execution_count": 12,
   "metadata": {},
   "outputs": [],
   "source": [
    "def get_payload_window_start(timestamp: float) -> str:\n",
    "    \"\"\"\n",
    "        Get the beginning of the 2 minute window of a given timestamp (in milliseconds) as a string representation\n",
    "    \"\"\"\n",
    "    dt = datetime.fromtimestamp(timestamp // 1000)\n",
    "    delta = 0 if dt.minute % 2 == 0 else 1\n",
    "    dt_window = dt - timedelta(minutes=delta)\n",
    "    return dt_window.strftime(\"%H:%M\")\n"
   ]
  },
  {
   "cell_type": "code",
   "execution_count": 13,
   "metadata": {},
   "outputs": [
    {
     "name": "stderr",
     "output_type": "stream",
     "text": [
      "<ipython-input-13-4dd10da42244>:1: SettingWithCopyWarning: \n",
      "A value is trying to be set on a copy of a slice from a DataFrame.\n",
      "Try using .loc[row_indexer,col_indexer] = value instead\n",
      "\n",
      "See the caveats in the documentation: https://pandas.pydata.org/pandas-docs/stable/user_guide/indexing.html#returning-a-view-versus-a-copy\n",
      "  df_tv[\"readableDate\"] = df_tv[\"timestamp\"].apply(get_payload_window_start)\n"
     ]
    }
   ],
   "source": [
    "df_tv[\"readableDate\"] = df_tv[\"timestamp\"].apply(get_payload_window_start)"
   ]
  },
  {
   "cell_type": "markdown",
   "metadata": {},
   "source": [
    "### 4.2\n",
    "**Q** : Plot the concurrency time series for the content `content-05335`."
   ]
  },
  {
   "cell_type": "code",
   "execution_count": 14,
   "metadata": {},
   "outputs": [
    {
     "data": {
      "text/html": [
       "<div>\n",
       "<style scoped>\n",
       "    .dataframe tbody tr th:only-of-type {\n",
       "        vertical-align: middle;\n",
       "    }\n",
       "\n",
       "    .dataframe tbody tr th {\n",
       "        vertical-align: top;\n",
       "    }\n",
       "\n",
       "    .dataframe thead th {\n",
       "        text-align: right;\n",
       "    }\n",
       "</style>\n",
       "<table border=\"1\" class=\"dataframe\">\n",
       "  <thead>\n",
       "    <tr style=\"text-align: right;\">\n",
       "      <th></th>\n",
       "      <th>company</th>\n",
       "      <th>live</th>\n",
       "      <th>mediaEngine</th>\n",
       "      <th>p2p</th>\n",
       "      <th>cdn</th>\n",
       "      <th>upload</th>\n",
       "      <th>peers_count</th>\n",
       "      <th>peers_match</th>\n",
       "      <th>timestamp</th>\n",
       "      <th>sessionDuration</th>\n",
       "      <th>playbackErrorCount</th>\n",
       "      <th>totalPlaybackErrorCount</th>\n",
       "      <th>content</th>\n",
       "      <th>isFirstPayload</th>\n",
       "      <th>readableDate</th>\n",
       "      <th>concurrentViewers</th>\n",
       "    </tr>\n",
       "  </thead>\n",
       "  <tbody>\n",
       "    <tr>\n",
       "      <th>0</th>\n",
       "      <td>Streamroot TV</td>\n",
       "      <td>VOD</td>\n",
       "      <td>ME1</td>\n",
       "      <td>0.0</td>\n",
       "      <td>8507376.0</td>\n",
       "      <td>0.0</td>\n",
       "      <td>0.00</td>\n",
       "      <td>1</td>\n",
       "      <td>1562469807407</td>\n",
       "      <td>120000.0</td>\n",
       "      <td>0</td>\n",
       "      <td>0</td>\n",
       "      <td>content-09235</td>\n",
       "      <td>True</td>\n",
       "      <td>05:22</td>\n",
       "      <td>1</td>\n",
       "    </tr>\n",
       "    <tr>\n",
       "      <th>1</th>\n",
       "      <td>Streamroot TV</td>\n",
       "      <td>VOD</td>\n",
       "      <td>ME1</td>\n",
       "      <td>0.0</td>\n",
       "      <td>5778744.0</td>\n",
       "      <td>0.0</td>\n",
       "      <td>0.00</td>\n",
       "      <td>0</td>\n",
       "      <td>1562469927310</td>\n",
       "      <td>240000.0</td>\n",
       "      <td>0</td>\n",
       "      <td>0</td>\n",
       "      <td>content-09235</td>\n",
       "      <td>False</td>\n",
       "      <td>05:24</td>\n",
       "      <td>1</td>\n",
       "    </tr>\n",
       "    <tr>\n",
       "      <th>2</th>\n",
       "      <td>Streamroot TV</td>\n",
       "      <td>VOD</td>\n",
       "      <td>ME1</td>\n",
       "      <td>0.0</td>\n",
       "      <td>7692960.0</td>\n",
       "      <td>0.0</td>\n",
       "      <td>0.00</td>\n",
       "      <td>0</td>\n",
       "      <td>1562470047330</td>\n",
       "      <td>360000.0</td>\n",
       "      <td>0</td>\n",
       "      <td>0</td>\n",
       "      <td>content-09235</td>\n",
       "      <td>False</td>\n",
       "      <td>05:26</td>\n",
       "      <td>1</td>\n",
       "    </tr>\n",
       "    <tr>\n",
       "      <th>3</th>\n",
       "      <td>Streamroot TV</td>\n",
       "      <td>VOD</td>\n",
       "      <td>ME1</td>\n",
       "      <td>0.0</td>\n",
       "      <td>8229888.0</td>\n",
       "      <td>0.0</td>\n",
       "      <td>0.00</td>\n",
       "      <td>0</td>\n",
       "      <td>1562470167720</td>\n",
       "      <td>480000.0</td>\n",
       "      <td>0</td>\n",
       "      <td>0</td>\n",
       "      <td>content-09235</td>\n",
       "      <td>False</td>\n",
       "      <td>05:28</td>\n",
       "      <td>1</td>\n",
       "    </tr>\n",
       "    <tr>\n",
       "      <th>4</th>\n",
       "      <td>Streamroot TV</td>\n",
       "      <td>VOD</td>\n",
       "      <td>ME1</td>\n",
       "      <td>0.0</td>\n",
       "      <td>10387000.0</td>\n",
       "      <td>0.0</td>\n",
       "      <td>0.00</td>\n",
       "      <td>0</td>\n",
       "      <td>1562470287353</td>\n",
       "      <td>600000.0</td>\n",
       "      <td>0</td>\n",
       "      <td>0</td>\n",
       "      <td>content-09235</td>\n",
       "      <td>False</td>\n",
       "      <td>05:30</td>\n",
       "      <td>1</td>\n",
       "    </tr>\n",
       "    <tr>\n",
       "      <th>...</th>\n",
       "      <td>...</td>\n",
       "      <td>...</td>\n",
       "      <td>...</td>\n",
       "      <td>...</td>\n",
       "      <td>...</td>\n",
       "      <td>...</td>\n",
       "      <td>...</td>\n",
       "      <td>...</td>\n",
       "      <td>...</td>\n",
       "      <td>...</td>\n",
       "      <td>...</td>\n",
       "      <td>...</td>\n",
       "      <td>...</td>\n",
       "      <td>...</td>\n",
       "      <td>...</td>\n",
       "      <td>...</td>\n",
       "    </tr>\n",
       "    <tr>\n",
       "      <th>370827</th>\n",
       "      <td>Streamroot TV</td>\n",
       "      <td>VOD</td>\n",
       "      <td>ME1</td>\n",
       "      <td>14849556.0</td>\n",
       "      <td>0.0</td>\n",
       "      <td>76800.0</td>\n",
       "      <td>19.98</td>\n",
       "      <td>40</td>\n",
       "      <td>1562478631672</td>\n",
       "      <td>1800000.0</td>\n",
       "      <td>0</td>\n",
       "      <td>0</td>\n",
       "      <td>content-05335</td>\n",
       "      <td>False</td>\n",
       "      <td>07:50</td>\n",
       "      <td>25</td>\n",
       "    </tr>\n",
       "    <tr>\n",
       "      <th>370828</th>\n",
       "      <td>Streamroot TV</td>\n",
       "      <td>VOD</td>\n",
       "      <td>ME1</td>\n",
       "      <td>12287680.0</td>\n",
       "      <td>0.0</td>\n",
       "      <td>417400.0</td>\n",
       "      <td>19.77</td>\n",
       "      <td>40</td>\n",
       "      <td>1562478749635</td>\n",
       "      <td>1920000.0</td>\n",
       "      <td>0</td>\n",
       "      <td>0</td>\n",
       "      <td>content-05335</td>\n",
       "      <td>False</td>\n",
       "      <td>07:52</td>\n",
       "      <td>25</td>\n",
       "    </tr>\n",
       "    <tr>\n",
       "      <th>370829</th>\n",
       "      <td>Streamroot TV</td>\n",
       "      <td>VOD</td>\n",
       "      <td>ME1</td>\n",
       "      <td>13229184.0</td>\n",
       "      <td>0.0</td>\n",
       "      <td>6588.0</td>\n",
       "      <td>19.70</td>\n",
       "      <td>40</td>\n",
       "      <td>1562478869650</td>\n",
       "      <td>2040000.0</td>\n",
       "      <td>0</td>\n",
       "      <td>0</td>\n",
       "      <td>content-05335</td>\n",
       "      <td>False</td>\n",
       "      <td>07:54</td>\n",
       "      <td>23</td>\n",
       "    </tr>\n",
       "    <tr>\n",
       "      <th>370830</th>\n",
       "      <td>Streamroot TV</td>\n",
       "      <td>VOD</td>\n",
       "      <td>ME1</td>\n",
       "      <td>3515600.0</td>\n",
       "      <td>0.0</td>\n",
       "      <td>2000896.0</td>\n",
       "      <td>19.23</td>\n",
       "      <td>40</td>\n",
       "      <td>1562478989910</td>\n",
       "      <td>2160000.0</td>\n",
       "      <td>0</td>\n",
       "      <td>0</td>\n",
       "      <td>content-05335</td>\n",
       "      <td>False</td>\n",
       "      <td>07:56</td>\n",
       "      <td>26</td>\n",
       "    </tr>\n",
       "    <tr>\n",
       "      <th>370831</th>\n",
       "      <td>Streamroot TV</td>\n",
       "      <td>VOD</td>\n",
       "      <td>ME1</td>\n",
       "      <td>0.0</td>\n",
       "      <td>0.0</td>\n",
       "      <td>6739956.0</td>\n",
       "      <td>16.73</td>\n",
       "      <td>40</td>\n",
       "      <td>1562479110208</td>\n",
       "      <td>2280000.0</td>\n",
       "      <td>0</td>\n",
       "      <td>0</td>\n",
       "      <td>content-05335</td>\n",
       "      <td>False</td>\n",
       "      <td>07:58</td>\n",
       "      <td>26</td>\n",
       "    </tr>\n",
       "  </tbody>\n",
       "</table>\n",
       "<p>370832 rows × 16 columns</p>\n",
       "</div>"
      ],
      "text/plain": [
       "              company live mediaEngine         p2p         cdn     upload  \\\n",
       "0       Streamroot TV  VOD         ME1         0.0   8507376.0        0.0   \n",
       "1       Streamroot TV  VOD         ME1         0.0   5778744.0        0.0   \n",
       "2       Streamroot TV  VOD         ME1         0.0   7692960.0        0.0   \n",
       "3       Streamroot TV  VOD         ME1         0.0   8229888.0        0.0   \n",
       "4       Streamroot TV  VOD         ME1         0.0  10387000.0        0.0   \n",
       "...               ...  ...         ...         ...         ...        ...   \n",
       "370827  Streamroot TV  VOD         ME1  14849556.0         0.0    76800.0   \n",
       "370828  Streamroot TV  VOD         ME1  12287680.0         0.0   417400.0   \n",
       "370829  Streamroot TV  VOD         ME1  13229184.0         0.0     6588.0   \n",
       "370830  Streamroot TV  VOD         ME1   3515600.0         0.0  2000896.0   \n",
       "370831  Streamroot TV  VOD         ME1         0.0         0.0  6739956.0   \n",
       "\n",
       "        peers_count  peers_match      timestamp  sessionDuration  \\\n",
       "0              0.00            1  1562469807407         120000.0   \n",
       "1              0.00            0  1562469927310         240000.0   \n",
       "2              0.00            0  1562470047330         360000.0   \n",
       "3              0.00            0  1562470167720         480000.0   \n",
       "4              0.00            0  1562470287353         600000.0   \n",
       "...             ...          ...            ...              ...   \n",
       "370827        19.98           40  1562478631672        1800000.0   \n",
       "370828        19.77           40  1562478749635        1920000.0   \n",
       "370829        19.70           40  1562478869650        2040000.0   \n",
       "370830        19.23           40  1562478989910        2160000.0   \n",
       "370831        16.73           40  1562479110208        2280000.0   \n",
       "\n",
       "        playbackErrorCount  totalPlaybackErrorCount        content  \\\n",
       "0                        0                        0  content-09235   \n",
       "1                        0                        0  content-09235   \n",
       "2                        0                        0  content-09235   \n",
       "3                        0                        0  content-09235   \n",
       "4                        0                        0  content-09235   \n",
       "...                    ...                      ...            ...   \n",
       "370827                   0                        0  content-05335   \n",
       "370828                   0                        0  content-05335   \n",
       "370829                   0                        0  content-05335   \n",
       "370830                   0                        0  content-05335   \n",
       "370831                   0                        0  content-05335   \n",
       "\n",
       "        isFirstPayload readableDate  concurrentViewers  \n",
       "0                 True        05:22                  1  \n",
       "1                False        05:24                  1  \n",
       "2                False        05:26                  1  \n",
       "3                False        05:28                  1  \n",
       "4                False        05:30                  1  \n",
       "...                ...          ...                ...  \n",
       "370827           False        07:50                 25  \n",
       "370828           False        07:52                 25  \n",
       "370829           False        07:54                 23  \n",
       "370830           False        07:56                 26  \n",
       "370831           False        07:58                 26  \n",
       "\n",
       "[370832 rows x 16 columns]"
      ]
     },
     "execution_count": 14,
     "metadata": {},
     "output_type": "execute_result"
    }
   ],
   "source": [
    "concurrency_df = df_tv.groupby([\"content\", \"readableDate\"])[\"live\"].count().reset_index(name=\"concurrentViewers\")\n",
    "df_tv = df_tv.merge(concurrency_df, how=\"left\", on=[\"content\", \"readableDate\"])\n",
    "df_tv"
   ]
  },
  {
   "cell_type": "code",
   "execution_count": 15,
   "metadata": {},
   "outputs": [],
   "source": [
    "TARGET_CONTENT = \"content-05335\""
   ]
  },
  {
   "cell_type": "code",
   "execution_count": 16,
   "metadata": {},
   "outputs": [
    {
     "data": {
      "image/png": "[encoded data removed]",
      "text/plain": [
       "<Figure size 864x432 with 1 Axes>"
      ]
     },
     "metadata": {
      "needs_background": "light"
     },
     "output_type": "display_data"
    }
   ],
   "source": [
    "ax = df_tv[df_tv.content == TARGET_CONTENT].sort_values(\"readableDate\").plot(title=f\"Concurrency time series for {TARGET_CONTENT}\", figsize=(12,6), x=\"readableDate\", y=\"concurrentViewers\")\n",
    "ax.set_xlabel(\"Time\")\n",
    "ax.set_ylabel(\"Concurrent viewers\");"
   ]
  },
  {
   "cell_type": "markdown",
   "metadata": {},
   "source": [
    "### 4.3\n",
    "**Q** : What is the average performance measured when the concurrency is lower than 10?"
   ]
  },
  {
   "cell_type": "code",
   "execution_count": 17,
   "metadata": {},
   "outputs": [],
   "source": [
    "df_tv[\"performance\"] = df_tv[\"p2p\"] / (df_tv[\"p2p\"] + df_tv[\"cdn\"])"
   ]
  },
  {
   "cell_type": "code",
   "execution_count": 18,
   "metadata": {},
   "outputs": [
    {
     "data": {
      "text/plain": [
       "'Average performance when concurrency is lower than 10 is 42.55%'"
      ]
     },
     "execution_count": 18,
     "metadata": {},
     "output_type": "execute_result"
    }
   ],
   "source": [
    "avg_performance_on_low_concurrency = df_tv[df_tv.concurrentViewers < 10][\"performance\"].mean()\n",
    "f\"Average performance when concurrency is lower than 10 is {round(avg_performance_on_low_concurrency * 100, 2)}%\""
   ]
  },
  {
   "cell_type": "markdown",
   "metadata": {},
   "source": [
    "### 4.4\n",
    "**Q** : Starting from which concurrency can we say there is a 75% chance that the performance on a content is higher than 80%?\n"
   ]
  },
  {
   "cell_type": "code",
   "execution_count": 29,
   "metadata": {},
   "outputs": [
    {
     "data": {
      "text/plain": [
       "concurrentViewers\n",
       "1     0.000000\n",
       "2     0.127081\n",
       "3     0.500000\n",
       "4     0.262563\n",
       "5     0.754133\n",
       "6     0.706455\n",
       "7     0.798643\n",
       "8     0.618854\n",
       "9     0.777476\n",
       "10    0.857428\n",
       "11    0.672485\n",
       "12    0.527144\n",
       "13    0.830869\n",
       "14    0.871706\n",
       "15    0.770080\n",
       "16    0.088982\n",
       "17    0.850007\n",
       "18    0.891075\n",
       "19    0.859769\n",
       "20    0.859669\n",
       "21    0.886149\n",
       "22    0.973453\n",
       "23    0.942011\n",
       "24    0.992033\n",
       "25    0.781661\n",
       "26    0.955918\n",
       "Name: performance, dtype: float64"
      ]
     },
     "execution_count": 29,
     "metadata": {},
     "output_type": "execute_result"
    }
   ],
   "source": [
    "content_avg = df_tv.groupby([\"concurrentViewers\", \"content\"])[\"performance\"].mean()\n",
    "p25 = content_avg.groupby(\"concurrentViewers\").quantile(0.25)\n",
    "p25"
   ]
  },
  {
   "cell_type": "code",
   "execution_count": 25,
   "metadata": {},
   "outputs": [
    {
     "data": {
      "image/png": "[encoded data removed]",
      "text/plain": [
       "<Figure size 864x432 with 1 Axes>"
      ]
     },
     "metadata": {
      "needs_background": "light"
     },
     "output_type": "display_data"
    }
   ],
   "source": [
    "ax = p25.plot(figsize=(12,6), title=\"P25 of average performance by content as a function of concurrent viewers\")\n",
    "ax.set_xlabel(\"Concurrent viewers\")\n",
    "ax.set_ylabel(\"Performance\");"
   ]
  },
  {
   "cell_type": "markdown",
   "metadata": {},
   "source": [
    "**A** : Looking at the P25 of the average performance of contents by concurrentViewers, we can observe that the performance is consistently above 80% starting at 17 concurrent viewers. Performance already looks quite good starting from 13 concurrent viewers but there is an abnormaly low P25 value for 16 concurrent viewers which might require some further analysis."
   ]
  },
  {
   "cell_type": "code",
   "execution_count": 31,
   "metadata": {},
   "outputs": [
    {
     "data": {
      "text/plain": [
       "content\n",
       "content-05333    0.958782\n",
       "content-05334    0.736737\n",
       "content-05335    0.990453\n",
       "content-09757    0.177964\n",
       "content-10585    0.000000\n",
       "content-12653    0.955405\n",
       "content-15940    0.000000\n",
       "Name: performance, dtype: float64"
      ]
     },
     "execution_count": 31,
     "metadata": {},
     "output_type": "execute_result"
    }
   ],
   "source": [
    "content_avg[16]"
   ]
  },
  {
   "cell_type": "markdown",
   "metadata": {},
   "source": [
    "Both content-10585 and content-15940 seem to have performance issues."
   ]
  },
  {
   "cell_type": "code",
   "execution_count": 38,
   "metadata": {},
   "outputs": [
    {
     "data": {
      "text/plain": [
       "concurrentViewers\n",
       "4     0.0\n",
       "8     0.0\n",
       "16    0.0\n",
       "Name: performance, dtype: float64"
      ]
     },
     "execution_count": 38,
     "metadata": {},
     "output_type": "execute_result"
    }
   ],
   "source": [
    "content_avg[:, \"content-10585\"]"
   ]
  },
  {
   "cell_type": "code",
   "execution_count": 34,
   "metadata": {},
   "outputs": [
    {
     "data": {
      "text/plain": [
       "concurrentViewers\n",
       "1     0.992495\n",
       "4     0.000000\n",
       "8     0.000000\n",
       "12    0.000000\n",
       "16    0.000000\n",
       "Name: performance, dtype: float64"
      ]
     },
     "execution_count": 34,
     "metadata": {},
     "output_type": "execute_result"
    }
   ],
   "source": [
    "content_avg[:, \"content-15940\"]"
   ]
  },
  {
   "cell_type": "markdown",
   "metadata": {},
   "source": [
    "Both these contents seem to have issues taking advantage of the P2P system almost no matter how many concurrent viewers there are. Knowing more about the specifics of those contents would be a good starting point into further analysis."
   ]
  },
  {
   "cell_type": "code",
   "execution_count": null,
   "metadata": {},
   "outputs": [],
   "source": []
  }
 ],
 "metadata": {
  "interpreter": {
   "hash": "5c740d7b8fb035518da6f1074e04a1e67c814f011113437dbcea1b0b4ff421ef"
  },
  "kernelspec": {
   "display_name": "Python 3",
   "language": "python",
   "name": "python3"
  },
  "language_info": {
   "codemirror_mode": {
    "name": "ipython",
    "version": 3
   },
   "file_extension": ".py",
   "mimetype": "text/x-python",
   "name": "python",
   "nbconvert_exporter": "python",
   "pygments_lexer": "ipython3",
   "version": "3.8.5"
  },
  "metadata": {
   "interpreter": {
    "hash": "31f2aee4e71d21fbe5cf8b01ff0e069b9275f58929596ceb00d14d90e3e16cd6"
   }
  }
 },
 "nbformat": 4,
 "nbformat_minor": 2
}
